{
  "nbformat": 4,
  "nbformat_minor": 0,
  "metadata": {
    "colab": {
      "provenance": [],
      "gpuType": "T4"
    },
    "kernelspec": {
      "name": "python3",
      "display_name": "Python 3"
    },
    "language_info": {
      "name": "python"
    },
    "accelerator": "GPU"
  },
  "cells": [
    {
      "cell_type": "markdown",
      "source": [
        "# POS TAGGER UNIGRAM\n",
        "- Contagem de TAGS que mais aparecem, análise com sufixo das palavras para classificação de palavras desconhecidas no dataset.\n",
        "\n"
      ],
      "metadata": {
        "id": "UWAHS0x-hTFJ"
      }
    },
    {
      "cell_type": "markdown",
      "source": [
        "## Captura de Dados | Peen Tree Bank Dataset"
      ],
      "metadata": {
        "id": "VvSXklgIBvWH"
      }
    },
    {
      "cell_type": "code",
      "source": [
        "from google.colab import drive\n",
        "drive.mount('/content/drive')"
      ],
      "metadata": {
        "colab": {
          "base_uri": "https://localhost:8080/"
        },
        "id": "7F2gZgsKhpxp",
        "outputId": "ef05ed00-b9bd-4588-bec8-85f20f333449"
      },
      "execution_count": null,
      "outputs": [
        {
          "output_type": "stream",
          "name": "stdout",
          "text": [
            "Mounted at /content/drive\n"
          ]
        }
      ]
    },
    {
      "cell_type": "code",
      "execution_count": null,
      "metadata": {
        "collapsed": true,
        "id": "QtPdSJczy_KK"
      },
      "outputs": [],
      "source": [
        "import pandas as pd\n",
        "\n",
        "path = \"/content/drive/MyDrive/O LIVRO/Penn Treebank/Penn Treebank/Secs0-18 - training\"\n",
        "content = []\n",
        "with open(path,'r') as r:\n",
        "    for line in r:\n",
        "        parts = line.strip().split()\n",
        "        pt = [tuple(item.rsplit('_', 1)) for item in parts]\n",
        "        content.extend(pt)\n",
        "\n",
        "content"
      ]
    },
    {
      "cell_type": "code",
      "source": [
        "content"
      ],
      "metadata": {
        "collapsed": true,
        "id": "rcaf6vA4htuc"
      },
      "execution_count": null,
      "outputs": []
    },
    {
      "cell_type": "markdown",
      "source": [
        "## Tratamento de Dados"
      ],
      "metadata": {
        "id": "Z2SlE7rDocNu"
      }
    },
    {
      "cell_type": "code",
      "source": [
        "# Reconstruindo as frases para adicionar análise de dados com BOS/EOS\n",
        "sentence = []\n",
        "text_sentences = []\n",
        "\n",
        "for (word,tag) in content:\n",
        "  if tag=='.':\n",
        "    sentence.append((word,tag))\n",
        "    text_sentences.append(sentence)\n",
        "    sentence = []\n",
        "  else:\n",
        "    sentence.append((word,tag))"
      ],
      "metadata": {
        "collapsed": true,
        "id": "cD6shBdwogY7"
      },
      "execution_count": null,
      "outputs": []
    },
    {
      "cell_type": "code",
      "source": [
        "text_sentences[1]"
      ],
      "metadata": {
        "colab": {
          "base_uri": "https://localhost:8080/"
        },
        "id": "wbDHsWHGpdPD",
        "outputId": "0bd573e9-c0b4-42a5-e3f2-64806d3615b6"
      },
      "execution_count": null,
      "outputs": [
        {
          "output_type": "execute_result",
          "data": {
            "text/plain": [
              "[('Mr.', 'NNP'),\n",
              " ('Vinken', 'NNP'),\n",
              " ('is', 'VBZ'),\n",
              " ('chairman', 'NN'),\n",
              " ('of', 'IN'),\n",
              " ('Elsevier', 'NNP'),\n",
              " ('N.V.', 'NNP'),\n",
              " (',', ','),\n",
              " ('the', 'DT'),\n",
              " ('Dutch', 'NNP'),\n",
              " ('publishing', 'VBG'),\n",
              " ('group', 'NN'),\n",
              " ('.', '.')]"
            ]
          },
          "metadata": {},
          "execution_count": 108
        }
      ]
    },
    {
      "cell_type": "code",
      "source": [
        "# Adicionar TAGS BOS/EOS no início e no fim de cada frase\n",
        "\n",
        "for i in range(len(text_sentences)):\n",
        "  text_sentences[i].insert(0,('<BOS>','<BOS>'))\n",
        "  text_sentences[i].insert(len(text_sentences[i]),('<EOS>','<EOS>'))"
      ],
      "metadata": {
        "id": "Fgh36f9srMYG"
      },
      "execution_count": null,
      "outputs": []
    },
    {
      "cell_type": "code",
      "source": [
        "text_sentences[0]"
      ],
      "metadata": {
        "colab": {
          "base_uri": "https://localhost:8080/"
        },
        "id": "9moFPoHPrp7D",
        "outputId": "2441dea2-3f54-4170-a493-252dc759f291"
      },
      "execution_count": null,
      "outputs": [
        {
          "output_type": "execute_result",
          "data": {
            "text/plain": [
              "[('<BOS>', '<BOS>'),\n",
              " ('Pierre', 'NNP'),\n",
              " ('Vinken', 'NNP'),\n",
              " (',', ','),\n",
              " ('61', 'CD'),\n",
              " ('years', 'NNS'),\n",
              " ('old', 'JJ'),\n",
              " (',', ','),\n",
              " ('will', 'MD'),\n",
              " ('join', 'VB'),\n",
              " ('the', 'DT'),\n",
              " ('board', 'NN'),\n",
              " ('as', 'IN'),\n",
              " ('a', 'DT'),\n",
              " ('nonexecutive', 'JJ'),\n",
              " ('director', 'NN'),\n",
              " ('Nov.', 'NNP'),\n",
              " ('29', 'CD'),\n",
              " ('.', '.'),\n",
              " ('<EOS>', '<EOS>')]"
            ]
          },
          "metadata": {},
          "execution_count": 134
        }
      ]
    },
    {
      "cell_type": "markdown",
      "source": [
        "## Gerando formato Lisp-tree para usar o evalb"
      ],
      "metadata": {
        "id": "pbFmhq-1tb0Q"
      }
    },
    {
      "cell_type": "code",
      "source": [
        "def format_lisp_tree(sentence):\n",
        "    \"\"\"\n",
        "    Recebe uma sentença como lista de pares (word, tag)\n",
        "    Exemplo:\n",
        "        sentence = [(\"dog\", \"NN\"), (\"barks\", \"VBZ\"), (\".\", \".\")]\n",
        "    Retorna uma string no formato:\n",
        "        (S (NN dog) (VBZ barks) (. .))\n",
        "    \"\"\"\n",
        "    inner = \" \".join([f\"({tag} {word})\" for (word, tag) in sentence])\n",
        "    return f\"(S {inner})\""
      ],
      "metadata": {
        "id": "4kwR14lKtggJ"
      },
      "execution_count": null,
      "outputs": []
    },
    {
      "cell_type": "code",
      "source": [
        "format_lisp_tree(text_sentences[1])"
      ],
      "metadata": {
        "colab": {
          "base_uri": "https://localhost:8080/",
          "height": 36
        },
        "id": "HUoNdRButica",
        "outputId": "76b29c8c-9410-40de-a8ef-bd7b18b90732"
      },
      "execution_count": null,
      "outputs": [
        {
          "output_type": "execute_result",
          "data": {
            "text/plain": [
              "'(S (<BOS> <BOS>) (NNP Mr.) (NNP Vinken) (VBZ is) (NN chairman) (IN of) (NNP Elsevier) (NNP N.V.) (, ,) (DT the) (NNP Dutch) (VBG publishing) (NN group) (. .) (<EOS> <EOS>))'"
            ],
            "application/vnd.google.colaboratory.intrinsic+json": {
              "type": "string"
            }
          },
          "metadata": {},
          "execution_count": 221
        }
      ]
    },
    {
      "cell_type": "code",
      "source": [
        "text_format_evalb = [format_lisp_tree(sentence) for sentence in text_sentences]"
      ],
      "metadata": {
        "id": "OvaKkQTt2eKh"
      },
      "execution_count": null,
      "outputs": []
    },
    {
      "cell_type": "markdown",
      "source": [
        "## Classificador: Separação de Words e Taggers"
      ],
      "metadata": {
        "id": "Zo9r_p0MoeIv"
      }
    },
    {
      "cell_type": "code",
      "source": [
        "# Separa taggers e words em duas listas\n",
        "taggers = [tagger[1] for tagger in content]\n",
        "\n",
        "words = [word[0] for word in content]"
      ],
      "metadata": {
        "id": "2PoYpIcizLQP"
      },
      "execution_count": null,
      "outputs": []
    },
    {
      "cell_type": "code",
      "source": [
        "# Cria um DataFrame para separar os dados do content\n",
        "df = pd.DataFrame(content, columns=[\"word\", \"tag\"])\n",
        "\n",
        "# Contando as frequências de cada par (tag, word)\n",
        "df = df.groupby([\"word\", \"tag\"]).size().reset_index(name=\"freq\")\n"
      ],
      "metadata": {
        "id": "0f2fqHZK3wWe"
      },
      "execution_count": null,
      "outputs": []
    },
    {
      "cell_type": "code",
      "source": [
        "df"
      ],
      "metadata": {
        "id": "lhzGqVALh81f"
      },
      "execution_count": null,
      "outputs": []
    },
    {
      "cell_type": "markdown",
      "source": [
        "## Modelo de unigrama"
      ],
      "metadata": {
        "id": "WFYVKtvAByF7"
      }
    },
    {
      "cell_type": "code",
      "source": [
        "# Para cada palavra, pegamos a tag mais frequente associada\n",
        "# Vamos criar um dicionário onde a chave é a palavra e o valor é a tag mais frequente\n",
        "unigram_model = {}\n",
        "\n",
        "for word in df[\"word\"].unique():\n",
        "    # Filtramos as linhas que correspondem a esta palavra\n",
        "    word_data = df[df[\"word\"] == word]\n",
        "\n",
        "    # Encontramos a tag com maior frequência para essa palavra\n",
        "    most_frequent_tag = word_data.loc[word_data[\"freq\"].idxmax()][\"tag\"]\n",
        "\n",
        "    # Adicionamos ao modelo unigram\n",
        "    unigram_model[word] = most_frequent_tag\n",
        "\n",
        "# Exibindo o modelo unigram\n",
        "print(\"Modelo Unigram:\")\n",
        "print(unigram_model)"
      ],
      "metadata": {
        "id": "jjc39f2-5UoK"
      },
      "execution_count": null,
      "outputs": []
    },
    {
      "cell_type": "markdown",
      "source": [
        "Capturando o Test set para o treino"
      ],
      "metadata": {
        "id": "K7ITlehHiB7r"
      }
    },
    {
      "cell_type": "code",
      "source": [
        "test_set = \"/content/drive/MyDrive/O LIVRO/Penn Treebank/Penn Treebank/Secs19-21 - development\" #Ju"
      ],
      "metadata": {
        "id": "VEsE-icK8_TS"
      },
      "execution_count": null,
      "outputs": []
    },
    {
      "cell_type": "code",
      "source": [
        "content_test_set = []\n",
        "with open(test_set,'r') as r:\n",
        "    for line in r:\n",
        "        parts = line.strip().split()\n",
        "        pt = [tuple(item.rsplit('_', 1)) for item in parts]\n",
        "        content_test_set.extend(pt)\n",
        "\n",
        "words = [word[0] for word in content_test_set]"
      ],
      "metadata": {
        "collapsed": true,
        "id": "-P49vvH89kmm"
      },
      "execution_count": null,
      "outputs": []
    },
    {
      "cell_type": "code",
      "source": [
        "df_test = pd.DataFrame(columns=[\"word\", \"tag\"])"
      ],
      "metadata": {
        "id": "40qzJB-n-Rta"
      },
      "execution_count": null,
      "outputs": []
    },
    {
      "cell_type": "code",
      "source": [
        "df_test[\"word\"] = [word[0] for word in content_test_set]\n",
        "df_test[\"tag\"] = [word[1] for word in content_test_set]"
      ],
      "metadata": {
        "id": "tnYo_L0l-7Nq"
      },
      "execution_count": null,
      "outputs": []
    },
    {
      "cell_type": "code",
      "source": [
        "df_test"
      ],
      "metadata": {
        "id": "pAUf90Y1--cC"
      },
      "execution_count": null,
      "outputs": []
    },
    {
      "cell_type": "markdown",
      "source": [
        "## UnigramTagger\n",
        "\n",
        "\n",
        "*   Analisamos as palavras RARAS no dataset de treino, para retirar o sufixo e analisar a sua classificação no dataset.\n",
        "*   Criamos um classificador de palavras desconhecidas apartir dessa análise\n",
        "\n"
      ],
      "metadata": {
        "id": "hO4Sp75nxU-F"
      }
    },
    {
      "cell_type": "code",
      "source": [
        "import pandas as pd\n",
        "\n",
        "list_input = list(zip(words, taggers))\n",
        "\n",
        "#Tabela com as palavras e as tags\n",
        "words_table = pd.DataFrame(list_input, columns=[\"word\", \"tag\"])\n",
        "\n",
        "#Tabela com as frequências de classificação de cada palavra, com as mais variadas classificações\n",
        "words_table_freq = words_table.groupby(\"word\").size().reset_index(name=\"freq\")"
      ],
      "metadata": {
        "id": "GTtAC0LUx8dN"
      },
      "execution_count": null,
      "outputs": []
    },
    {
      "cell_type": "code",
      "source": [
        "words_table_freq"
      ],
      "metadata": {
        "id": "5qMsOaFEyKz8"
      },
      "execution_count": null,
      "outputs": []
    },
    {
      "cell_type": "code",
      "source": [
        "#Captando as palavras que aparecem 5 vezes no dataset\n",
        "freq5_words = words_table_freq[words_table_freq['freq'] == 5]['word']\n",
        "\n",
        "#juntando as palavras que aparecendo até 5 vezes no dataset com as suas tags\n",
        "words_with_tags_freq5 = words_table[words_table['word'].isin(freq5_words)] #em formato de tabela\n",
        "\n",
        "words_with_tags_freq5_list = words_with_tags_freq5['word'].unique().tolist() #apenas essas palavras raras, em lista"
      ],
      "metadata": {
        "collapsed": true,
        "id": "irqkRCZKx8dO"
      },
      "execution_count": null,
      "outputs": []
    },
    {
      "cell_type": "markdown",
      "source": [
        "Extraindo padrões dos sufixos das palavras raras"
      ],
      "metadata": {
        "id": "whBngT_hy5Jl"
      }
    },
    {
      "cell_type": "code",
      "source": [
        "from collections import defaultdict\n",
        "\n",
        "#extraindo padrões de sufixo para palavras raras\n",
        "suffix_stats_5 = defaultdict(lambda: defaultdict(int))  # suffix_stats[suffix][tag] += 1\n",
        "\n",
        "for word in words_with_tags_freq5_list:\n",
        "  for k in [2, 3, 4,5]:  # pegando sufixos de 2 a 5 letras\n",
        "        if len(word) >= k:\n",
        "          suffix = word[-k:].lower()\n",
        "          for tagg_word in words_with_tags_freq5[words_with_tags_freq5['word']== word]['tag']:\n",
        "            suffix_stats_5[suffix][tagg_word] += 1 #pega o sufixo e a tag que aquela palavra foi classificada"
      ],
      "metadata": {
        "collapsed": true,
        "id": "eq8Gh3PHx8dO"
      },
      "execution_count": null,
      "outputs": []
    },
    {
      "cell_type": "code",
      "source": [
        "suffix_stats_2_3_4_5 = suffix_stats_5 # sufixo das palavras 'raras' que tem freq=5, e as suas respectivas classificações de TAGS"
      ],
      "metadata": {
        "collapsed": true,
        "id": "dpTAhxuEx8dO"
      },
      "execution_count": null,
      "outputs": []
    },
    {
      "cell_type": "markdown",
      "source": [
        "Classificador para palavras desconhecidas a partir de palavras raras"
      ],
      "metadata": {
        "id": "dndqsfBYx8dP"
      }
    },
    {
      "cell_type": "code",
      "source": [
        "suffix_stats_2_3_4_5 # sufixo das palavras 'raras' que tem freq=5, e as suas respectivas classificações de TAGS\n"
      ],
      "metadata": {
        "id": "g9KhESHlx8dP"
      },
      "execution_count": null,
      "outputs": []
    },
    {
      "cell_type": "code",
      "source": [
        "suffix_stats_2_3_4_5"
      ],
      "metadata": {
        "collapsed": true,
        "id": "aMJfkgUsx8dP"
      },
      "execution_count": null,
      "outputs": []
    },
    {
      "cell_type": "code",
      "source": [
        "# Exibir os sufixos mais informativos\n",
        "for suffix, tag_dict in sorted(suffix_stats_2_3_4_5.items(), key=lambda x: sum(x[1].values()), reverse=True)[:10]:\n",
        "    print(f\"Sufixo: {suffix}\")\n",
        "    for tag, count in sorted(tag_dict.items(), key=lambda x: -x[1]):\n",
        "        print(f\"  {tag}: {count}\")"
      ],
      "metadata": {
        "colab": {
          "base_uri": "https://localhost:8080/"
        },
        "outputId": "bf130657-49ce-4ec3-a46e-59eb51eb4d5d",
        "id": "sZrgA8fWx8dP"
      },
      "execution_count": null,
      "outputs": [
        {
          "output_type": "stream",
          "name": "stdout",
          "text": [
            "Sufixo: ed\n",
            "  NN: 30\n",
            "  NNP: 24\n",
            "  IN: 20\n",
            "  DT: 18\n",
            "  NNS: 13\n",
            "  JJ: 11\n",
            "  VBZ: 10\n",
            "  CD: 9\n",
            "  .: 8\n",
            "  RB: 8\n",
            "  CC: 6\n",
            "  VBD: 5\n",
            "  VB: 5\n",
            "  TO: 5\n",
            "  ,: 4\n",
            "  PRP: 3\n",
            "  RBR: 3\n",
            "  VBG: 3\n",
            "  ``: 3\n",
            "  :: 2\n",
            "  VBN: 2\n",
            "  MD: 2\n",
            "  POS: 2\n",
            "  WDT: 1\n",
            "  WRB: 1\n",
            "  LS: 1\n",
            "  PRP$: 1\n",
            "  $: 1\n",
            "  JJR: 1\n",
            "  '': 1\n",
            "  NNPS: 1\n",
            "  EX: 1\n",
            "Sufixo: ng\n",
            "  NN: 29\n",
            "  NNP: 22\n",
            "  IN: 19\n",
            "  ,: 9\n",
            "  JJ: 9\n",
            "  DT: 9\n",
            "  .: 8\n",
            "  NNS: 7\n",
            "  VBN: 5\n",
            "  VBZ: 4\n",
            "  TO: 4\n",
            "  VBD: 3\n",
            "  CC: 3\n",
            "  PRP: 3\n",
            "  VBG: 3\n",
            "  VB: 3\n",
            "  CD: 3\n",
            "  VBP: 3\n",
            "  POS: 2\n",
            "  $: 1\n",
            "  WRB: 1\n",
            "  JJS: 1\n",
            "  '': 1\n",
            "  WP: 1\n",
            "  FW: 1\n",
            "  MD: 1\n",
            "Sufixo: ing\n",
            "  NN: 29\n",
            "  NNP: 21\n",
            "  IN: 17\n",
            "  DT: 9\n",
            "  ,: 8\n",
            "  JJ: 8\n",
            "  .: 7\n",
            "  NNS: 7\n",
            "  VBN: 5\n",
            "  TO: 4\n",
            "  VBD: 3\n",
            "  CC: 3\n",
            "  VBZ: 3\n",
            "  VBG: 3\n",
            "  VB: 3\n",
            "  CD: 3\n",
            "  VBP: 3\n",
            "  POS: 2\n",
            "  PRP: 2\n",
            "  $: 1\n",
            "  WRB: 1\n",
            "  JJS: 1\n",
            "  '': 1\n",
            "  WP: 1\n",
            "Sufixo: es\n",
            "  NN: 20\n",
            "  IN: 15\n",
            "  NNP: 13\n",
            "  JJ: 13\n",
            "  DT: 12\n",
            "  .: 9\n",
            "  ,: 7\n",
            "  NNS: 6\n",
            "  VBN: 6\n",
            "  VBD: 5\n",
            "  VB: 4\n",
            "  PRP: 4\n",
            "  VBZ: 4\n",
            "  RB: 4\n",
            "  CD: 3\n",
            "  TO: 3\n",
            "  CC: 2\n",
            "  $: 2\n",
            "  PRP$: 1\n",
            "  ``: 1\n",
            "  POS: 1\n",
            "Sufixo: on\n",
            "  NN: 15\n",
            "  NNP: 11\n",
            "  DT: 10\n",
            "  NNS: 9\n",
            "  IN: 7\n",
            "  VB: 5\n",
            "  RB: 5\n",
            "  CC: 5\n",
            "  CD: 3\n",
            "  ,: 3\n",
            "  VBG: 3\n",
            "  ``: 2\n",
            "  VBZ: 2\n",
            "  PRP: 2\n",
            "  JJ: 2\n",
            "  VBD: 2\n",
            "  VBP: 1\n",
            "  WP: 1\n",
            "  EX: 1\n",
            "  .: 1\n",
            "  RP: 1\n",
            "  TO: 1\n",
            "  -LRB-: 1\n",
            "  '': 1\n",
            "  VBN: 1\n",
            "Sufixo: ion\n",
            "  NN: 11\n",
            "  NNP: 10\n",
            "  NNS: 9\n",
            "  DT: 7\n",
            "  IN: 6\n",
            "  VB: 4\n",
            "  RB: 4\n",
            "  CC: 4\n",
            "  CD: 3\n",
            "  ,: 2\n",
            "  VBZ: 2\n",
            "  PRP: 2\n",
            "  JJ: 2\n",
            "  VBG: 2\n",
            "  VBP: 1\n",
            "  ``: 1\n",
            "  WP: 1\n",
            "  EX: 1\n",
            "  .: 1\n",
            "  -LRB-: 1\n",
            "  VBN: 1\n",
            "Sufixo: tion\n",
            "  NNP: 10\n",
            "  NN: 10\n",
            "  NNS: 8\n",
            "  DT: 6\n",
            "  IN: 5\n",
            "  VB: 4\n",
            "  RB: 4\n",
            "  CC: 4\n",
            "  ,: 2\n",
            "  VBZ: 2\n",
            "  PRP: 2\n",
            "  JJ: 2\n",
            "  CD: 2\n",
            "  VBG: 2\n",
            "  VBP: 1\n",
            "  ``: 1\n",
            "  WP: 1\n",
            "  EX: 1\n",
            "  .: 1\n",
            "  -LRB-: 1\n",
            "  VBN: 1\n",
            "Sufixo: er\n",
            "  IN: 7\n",
            "  DT: 7\n",
            "  NNS: 6\n",
            "  NN: 6\n",
            "  NNP: 4\n",
            "  ,: 4\n",
            "  TO: 3\n",
            "  RB: 3\n",
            "  .: 3\n",
            "  JJ: 3\n",
            "  VBN: 2\n",
            "  VBG: 2\n",
            "  VBZ: 2\n",
            "  CC: 1\n",
            "  PRP: 1\n",
            "  VBP: 1\n",
            "  MD: 1\n",
            "  $: 1\n",
            "  VBD: 1\n",
            "  CD: 1\n",
            "  ``: 1\n",
            "Sufixo: ted\n",
            "  IN: 10\n",
            "  NNP: 7\n",
            "  NN: 7\n",
            "  NNS: 6\n",
            "  DT: 5\n",
            "  VBZ: 4\n",
            "  RB: 3\n",
            "  CD: 3\n",
            "  .: 3\n",
            "  RBR: 2\n",
            "  POS: 2\n",
            "  TO: 1\n",
            "  $: 1\n",
            "  ,: 1\n",
            "  VB: 1\n",
            "  JJ: 1\n",
            "  MD: 1\n",
            "  '': 1\n",
            "  CC: 1\n",
            "Sufixo: ts\n",
            "  DT: 7\n",
            "  NNP: 7\n",
            "  ,: 5\n",
            "  IN: 5\n",
            "  NN: 5\n",
            "  VB: 3\n",
            "  NNS: 3\n",
            "  .: 3\n",
            "  JJ: 3\n",
            "  CD: 2\n",
            "  VBD: 2\n",
            "  VBG: 2\n",
            "  RB: 1\n",
            "  WRB: 1\n",
            "  TO: 1\n",
            "  '': 1\n",
            "  VBN: 1\n",
            "  VBP: 1\n",
            "  PRP: 1\n",
            "  NNPS: 1\n"
          ]
        }
      ]
    },
    {
      "cell_type": "code",
      "source": [
        "#prever palavra desconhecida com base no sufixo\n",
        "def predict_tag_by_suffix(word, suffix_stats_2_3_4_5):\n",
        "  word = word.lower()\n",
        "  for k in [5,4,3, 2]:  # tenta sufixos maiores primeiro\n",
        "      if len(word) >= k:\n",
        "          suffix = word[-k:]\n",
        "          if suffix in suffix_stats_2_3_4_5:\n",
        "              # retorna a tag mais comum para o sufixo\n",
        "              return max(suffix_stats_2_3_4_5[suffix], key=suffix_stats_2_3_4_5[suffix].get)\n",
        "  return \"NN\"  # fallback padrão"
      ],
      "metadata": {
        "id": "gIMh-s6xx8dP"
      },
      "execution_count": null,
      "outputs": []
    },
    {
      "cell_type": "markdown",
      "source": [
        "## Continuação da classificação"
      ],
      "metadata": {
        "id": "OcZXwwB0xsYs"
      }
    },
    {
      "cell_type": "code",
      "source": [
        "def unigram_tagger_NN(word, model):\n",
        "    return model.get(word, predict_tag_by_suffix(word,suffix_stats_2_3_4_5)) #Usa o NN caso encontre uma palavra desconhecida no test_set\n",
        "\n",
        "resultados_teste = [(word, unigram_tagger_NN(word, unigram_model)) for word in words]"
      ],
      "metadata": {
        "id": "aFnidBqscevs"
      },
      "execution_count": null,
      "outputs": []
    },
    {
      "cell_type": "code",
      "source": [
        "df_predict = pd.DataFrame(columns=[\"word\", \"tag\"])\n",
        "\n",
        "df_predict[\"word\"] = [word[0] for word in resultados_teste]\n",
        "df_predict[\"tag\"] = [word[1] for word in resultados_teste]"
      ],
      "metadata": {
        "id": "3REymw19_BJe"
      },
      "execution_count": null,
      "outputs": []
    },
    {
      "cell_type": "code",
      "source": [
        "df_predict"
      ],
      "metadata": {
        "collapsed": true,
        "id": "VhwCpL50-Nd-"
      },
      "execution_count": null,
      "outputs": []
    },
    {
      "cell_type": "code",
      "source": [
        "df_test.describe()"
      ],
      "metadata": {
        "id": "N9fNI3Q7_RD4"
      },
      "execution_count": null,
      "outputs": []
    },
    {
      "cell_type": "markdown",
      "source": [
        "## Acurácia e Confusion Matrix"
      ],
      "metadata": {
        "id": "MZXiyOFCB0bs"
      }
    },
    {
      "cell_type": "code",
      "source": [
        "from sklearn.metrics import confusion_matrix, accuracy_score\n",
        "\n",
        "# Alinhando os dois DataFrames, para garantir que as palavras estão na mesma ordem\n",
        "df_test = df_test.sort_values(by=\"word\").reset_index(drop=True)\n",
        "df_predict_unigram = df_predict.sort_values(by=\"word\").reset_index(drop=True)\n",
        "\n",
        "df_test[\"predicted_tag\"] = df_predict_unigram[\"tag\"]"
      ],
      "metadata": {
        "id": "mCsDLlng0Hu1"
      },
      "execution_count": null,
      "outputs": []
    },
    {
      "cell_type": "code",
      "source": [
        "#Filtrando as tags BOS,EOS e pontuação da avaliação\n",
        "ignore = ['BOS','EOS',\".\", \",\", \":\", \"``\", \"''\", \"-LRB-\", \"-RRB-\"]\n",
        "df_filtrado = df_test[~df_test['tag'].isin(ignore)]\n"
      ],
      "metadata": {
        "id": "y8yLK9Nq0Do1"
      },
      "execution_count": null,
      "outputs": []
    },
    {
      "cell_type": "code",
      "source": [
        "acuracia_unigrama = accuracy_score(df_filtrado[\"tag\"], df_filtrado[\"predicted_tag\"])\n",
        "\n",
        "print(f\"\\nAcurácia Unigrama: {acuracia_unigrama:.4f}\")"
      ],
      "metadata": {
        "id": "lGKz1RvsC043",
        "colab": {
          "base_uri": "https://localhost:8080/"
        },
        "outputId": "7597d0bf-8e77-40aa-e3d5-f02eac316698"
      },
      "execution_count": null,
      "outputs": [
        {
          "output_type": "stream",
          "name": "stdout",
          "text": [
            "\n",
            "Acurácia Unigrama: 0.9000\n"
          ]
        }
      ]
    },
    {
      "cell_type": "code",
      "source": [
        "import seaborn as sns\n",
        "import matplotlib.pyplot as plt\n",
        "from sklearn.metrics import ConfusionMatrixDisplay\n",
        "\n",
        "# Gerando a Confusion Matrix (Matriz de Confusão)\n",
        "cm = confusion_matrix(df_filtrado[\"tag\"], df_filtrado[\"predicted_tag\"],labels=None)\n",
        "disp = ConfusionMatrixDisplay(confusion_matrix=cm)\n",
        "disp.plot(xticks_rotation=90, cmap='Blues')\n",
        "plt.xlabel('Predicted Tag')\n",
        "plt.ylabel('True Tag')\n",
        "plt.title('Matriz de Confusão')\n",
        "plt.show()\n",
        "\n",
        "# plt.figure(figsize=(10, 7))\n",
        "# sns.heatmap(cm, annot=True, fmt=\"d\", cmap=\"Blues\", xticklabels=df_test[\"tag\"].unique(), yticklabels=df_test[\"tag\"].unique())\n",
        "# plt.xlabel(\"Predicted Tag\")\n",
        "# plt.ylabel(\"True Tag\")\n",
        "# plt.title(\"Confusion Matrix\")\n",
        "# plt.show()\n",
        "\n"
      ],
      "metadata": {
        "id": "E6c8G2ioDkDu",
        "colab": {
          "base_uri": "https://localhost:8080/",
          "height": 475
        },
        "outputId": "aeafe12d-f23d-4368-84e7-317efd6eed66"
      },
      "execution_count": null,
      "outputs": [
        {
          "output_type": "display_data",
          "data": {
            "text/plain": [
              "<Figure size 640x480 with 2 Axes>"
            ],
            "image/png": "[encoded data removed]"
          },
          "metadata": {}
        }
      ]
    },
    {
      "cell_type": "markdown",
      "source": [
        "## Usando métrica de avaliação com Evalb"
      ],
      "metadata": {
        "id": "oP7sqUwh2xpp"
      }
    },
    {
      "cell_type": "markdown",
      "source": [
        "Preparando o Predict Label para uso do Evalb"
      ],
      "metadata": {
        "id": "9jzPOc-Y3Ull"
      }
    },
    {
      "cell_type": "code",
      "source": [
        "df_predict_unigram"
      ],
      "metadata": {
        "id": "NyFf5a1p37so"
      },
      "execution_count": null,
      "outputs": []
    },
    {
      "cell_type": "code",
      "source": [
        "df_predict[['word','tag']]"
      ],
      "metadata": {
        "id": "6y7QKtZZ3_jN"
      },
      "execution_count": null,
      "outputs": []
    },
    {
      "cell_type": "code",
      "source": [
        "df_predict_unigram\n",
        "\n",
        "words_predict_unigram = df_predict['word'].tolist()\n",
        "tags_predict_unigram = df_predict['tag'].tolist()\n",
        "\n",
        "predict_label_evalb = list(zip(words_predict_unigram,tags_predict_unigram))"
      ],
      "metadata": {
        "id": "eplPAFOA3Wvo"
      },
      "execution_count": null,
      "outputs": []
    },
    {
      "cell_type": "code",
      "source": [
        "predict_label_evalb[0]"
      ],
      "metadata": {
        "colab": {
          "base_uri": "https://localhost:8080/"
        },
        "id": "4dsJBxif5BKQ",
        "outputId": "47fb1ff1-f413-4dbb-ad08-381398c64964"
      },
      "execution_count": null,
      "outputs": [
        {
          "output_type": "execute_result",
          "data": {
            "text/plain": [
              "('The', 'DT')"
            ]
          },
          "metadata": {},
          "execution_count": 347
        }
      ]
    },
    {
      "cell_type": "markdown",
      "source": [
        "Construindo as frases do Test Set"
      ],
      "metadata": {
        "id": "INLQknmc56zE"
      }
    },
    {
      "cell_type": "code",
      "source": [
        "df_predict[['word','tag']]['word']"
      ],
      "metadata": {
        "id": "9jX8_RFb651r"
      },
      "execution_count": null,
      "outputs": []
    },
    {
      "cell_type": "code",
      "source": [
        "# Reconstruindo as frases\n",
        "def reconstroi_frases(df):\n",
        "  sentence_predict = []\n",
        "  text_sentences_predict = []\n",
        "\n",
        "  lista_word_tag_predict = list(df[['word', 'tag']].itertuples(index=False, name=None))\n",
        "\n",
        "  for (word,tag) in lista_word_tag_predict:\n",
        "    if word=='.': #Aqui é a palavra que deve ter pontuação!! (Gold Label) n a tag (que é incerto)\n",
        "      sentence_predict.append((word,tag))\n",
        "      text_sentences_predict.append(sentence_predict)\n",
        "      sentence_predict = []\n",
        "    else:\n",
        "      sentence_predict.append((word,tag))\n",
        "  return text_sentences_predict"
      ],
      "metadata": {
        "collapsed": true,
        "id": "_E1_aaBg55w4"
      },
      "execution_count": null,
      "outputs": []
    },
    {
      "cell_type": "code",
      "source": [
        "text_sentences_predict = reconstroi_frases(df_predict)"
      ],
      "metadata": {
        "id": "Yf5Z5cGTEqbA"
      },
      "execution_count": null,
      "outputs": []
    },
    {
      "cell_type": "code",
      "source": [
        "len(text_sentences_predict)"
      ],
      "metadata": {
        "colab": {
          "base_uri": "https://localhost:8080/"
        },
        "id": "eLqg7EanDnXK",
        "outputId": "fa8a4ead-02a5-4ada-c498-da33374c56d8"
      },
      "execution_count": null,
      "outputs": [
        {
          "output_type": "execute_result",
          "data": {
            "text/plain": [
              "5395"
            ]
          },
          "metadata": {},
          "execution_count": 374
        }
      ]
    },
    {
      "cell_type": "markdown",
      "source": [
        "Aplico o Predict_Label no Evalb"
      ],
      "metadata": {
        "id": "fx_jmDoq43P9"
      }
    },
    {
      "cell_type": "code",
      "source": [
        "with open(\"pred.pos\", \"w\", encoding=\"utf-8\") as f:\n",
        "    for sent in text_sentences_predict:\n",
        "        f.write(format_lisp_tree(sent) + \"\\n\")"
      ],
      "metadata": {
        "id": "kJxvovDO_y26"
      },
      "execution_count": null,
      "outputs": []
    },
    {
      "cell_type": "code",
      "source": [
        "!wc -l pred.pos"
      ],
      "metadata": {
        "colab": {
          "base_uri": "https://localhost:8080/"
        },
        "id": "mAxX2ByBDt8i",
        "outputId": "98f4b7ee-6fe5-4bb7-e374-90cce59907ac"
      },
      "execution_count": null,
      "outputs": [
        {
          "output_type": "stream",
          "name": "stdout",
          "text": [
            "5395 pred.pos\n"
          ]
        }
      ]
    },
    {
      "cell_type": "markdown",
      "source": [
        "Tranformando o testset em modelo evalb"
      ],
      "metadata": {
        "id": "jjgOhfrw8m1l"
      }
    },
    {
      "cell_type": "code",
      "source": [
        "test_set = \"/content/drive/MyDrive/O LIVRO/Penn Treebank/Penn Treebank/Secs19-21 - development\" #Ju"
      ],
      "metadata": {
        "id": "nk2mM_ho84BH"
      },
      "execution_count": null,
      "outputs": []
    },
    {
      "cell_type": "code",
      "source": [
        "content_test_set = []\n",
        "with open(test_set,'r') as r:\n",
        "    for line in r:\n",
        "        parts = line.strip().split()\n",
        "        pt = [tuple(item.rsplit('_', 1)) for item in parts]\n",
        "        content_test_set.extend(pt)\n",
        "\n",
        "words = [word[0] for word in content_test_set]"
      ],
      "metadata": {
        "collapsed": true,
        "id": "lyFYm7Vf84BH"
      },
      "execution_count": null,
      "outputs": []
    },
    {
      "cell_type": "code",
      "source": [
        "df_test = pd.DataFrame(columns=[\"word\", \"tag\"])"
      ],
      "metadata": {
        "id": "xPiqERuU84BI"
      },
      "execution_count": null,
      "outputs": []
    },
    {
      "cell_type": "code",
      "source": [
        "df_test[\"word\"] = [word[0] for word in content_test_set]\n",
        "df_test[\"tag\"] = [word[1] for word in content_test_set]"
      ],
      "metadata": {
        "id": "rPfg0Eug84BI"
      },
      "execution_count": null,
      "outputs": []
    },
    {
      "cell_type": "code",
      "source": [
        "df_test"
      ],
      "metadata": {
        "collapsed": true,
        "id": "_dDlGLmY84BI"
      },
      "execution_count": null,
      "outputs": []
    },
    {
      "cell_type": "code",
      "source": [
        "text_sentences_test_set = reconstroi_frases(df_test)"
      ],
      "metadata": {
        "id": "UCNY-Eln86RY"
      },
      "execution_count": null,
      "outputs": []
    },
    {
      "cell_type": "code",
      "source": [
        "len(text_sentences_test_set)"
      ],
      "metadata": {
        "collapsed": true,
        "id": "iU3XvqPn9UEv"
      },
      "execution_count": null,
      "outputs": []
    },
    {
      "cell_type": "code",
      "source": [
        "with open(\"gold.pos\", \"w\", encoding=\"utf-8\") as f:\n",
        "    for sent in text_sentences_test_set:\n",
        "        f.write(format_lisp_tree(sent) + \"\\n\")"
      ],
      "metadata": {
        "id": "ZToGumVUCjaP"
      },
      "execution_count": null,
      "outputs": []
    },
    {
      "cell_type": "code",
      "source": [
        "!wc -l gold.pos"
      ],
      "metadata": {
        "colab": {
          "base_uri": "https://localhost:8080/"
        },
        "id": "A6wQzttqD_c-",
        "outputId": "35ee30bb-bf75-48c1-8273-fff49d7ff7a7"
      },
      "execution_count": null,
      "outputs": [
        {
          "output_type": "stream",
          "name": "stdout",
          "text": [
            "5395 gold.pos\n"
          ]
        }
      ]
    },
    {
      "cell_type": "markdown",
      "source": [
        "## Avaliação com Evalb: Gold Label (test set) VS predict label (nosso modelo unigram)"
      ],
      "metadata": {
        "id": "SBvVA9mj9n6I"
      }
    },
    {
      "cell_type": "code",
      "source": [
        "evalb_path = \"/content/drive/MyDrive/EVALB/EVALB/\"\n",
        "!cd /content/drive/MyDrive/EVALB/EVALB/"
      ],
      "metadata": {
        "id": "iNjb6YHt9uk9"
      },
      "execution_count": null,
      "outputs": []
    },
    {
      "cell_type": "code",
      "source": [
        "cd /content/drive/MyDrive/EVALB/EVALB/"
      ],
      "metadata": {
        "colab": {
          "base_uri": "https://localhost:8080/"
        },
        "id": "k8X02nH8_5mb",
        "outputId": "d130311b-242e-4134-994a-d01b2abee60a"
      },
      "execution_count": null,
      "outputs": [
        {
          "output_type": "stream",
          "name": "stdout",
          "text": [
            "/content/drive/MyDrive/EVALB/EVALB\n"
          ]
        }
      ]
    },
    {
      "cell_type": "code",
      "source": [
        "ls"
      ],
      "metadata": {
        "colab": {
          "base_uri": "https://localhost:8080/"
        },
        "id": "585vekIx_-in",
        "outputId": "4a9b8923-2579-41d0-c58f-2f6d2e37ffbb"
      },
      "execution_count": null,
      "outputs": [
        {
          "output_type": "stream",
          "name": "stdout",
          "text": [
            "\u001b[0m\u001b[01;34mbug\u001b[0m/         \u001b[01;32mevalb\u001b[0m*   LICENSE   new.prm  resultado.txt  tgrep_proc.prl\n",
            "COLLINS.prm  evalb.c  Makefile  README   \u001b[01;34msample\u001b[0m/\n"
          ]
        }
      ]
    },
    {
      "cell_type": "code",
      "source": [
        "!chmod +x evalb"
      ],
      "metadata": {
        "collapsed": true,
        "id": "dfNe-CAUAc6A"
      },
      "execution_count": null,
      "outputs": []
    },
    {
      "cell_type": "code",
      "source": [
        "cd /content/"
      ],
      "metadata": {
        "colab": {
          "base_uri": "https://localhost:8080/"
        },
        "id": "bppsnylYFcy7",
        "outputId": "f5d68932-ad8c-4665-d4af-4ae66e9644e5"
      },
      "execution_count": null,
      "outputs": [
        {
          "output_type": "stream",
          "name": "stdout",
          "text": [
            "/content\n"
          ]
        }
      ]
    },
    {
      "cell_type": "code",
      "source": [
        "import subprocess\n",
        "\n",
        "subprocess.run([evalb_path+\"./evalb\", \"gold.pos\", \"pred.pos\"], stdout=open(\"/content/res_evalb.txt\", \"w\"))"
      ],
      "metadata": {
        "colab": {
          "base_uri": "https://localhost:8080/"
        },
        "id": "7TpUb37U_mcf",
        "outputId": "ac012d2b-5223-47e0-b884-1c205f12023b"
      },
      "execution_count": null,
      "outputs": [
        {
          "output_type": "execute_result",
          "data": {
            "text/plain": [
              "CompletedProcess(args=['/content/drive/MyDrive/EVALB/EVALB/./evalb', 'gold.pos', 'pred.pos'], returncode=0)"
            ]
          },
          "metadata": {},
          "execution_count": 406
        }
      ]
    },
    {
      "cell_type": "code",
      "source": [
        "!wc -l gold.pos\n",
        "!wc -l pred.pos"
      ],
      "metadata": {
        "colab": {
          "base_uri": "https://localhost:8080/"
        },
        "id": "ZKRdG1zeBX66",
        "outputId": "9dea7c9a-4273-41e5-d2c0-522decba9a0d"
      },
      "execution_count": null,
      "outputs": [
        {
          "output_type": "stream",
          "name": "stdout",
          "text": [
            "5395 gold.pos\n",
            "5395 pred.pos\n"
          ]
        }
      ]
    },
    {
      "cell_type": "code",
      "source": [
        "!head gold.pos"
      ],
      "metadata": {
        "colab": {
          "base_uri": "https://localhost:8080/"
        },
        "id": "XydOS0AVF2Ev",
        "outputId": "de1ccbfd-1669-40c9-9482-2bfb7e17ecdb"
      },
      "execution_count": null,
      "outputs": [
        {
          "output_type": "stream",
          "name": "stdout",
          "text": [
            "(S (DT The) (NNP Arizona) (NNP Corporations) (NNP Commission) (VBD authorized) (DT an) (CD 11.5) (NN %) (NN rate) (NN increase) (IN at) (NNP Tucson) (NNP Electric) (NNP Power) (NNP Co.) (, ,) (RB substantially) (JJR lower) (IN than) (VBN recommended) (JJ last) (NN month) (IN by) (DT a) (NN commission) (NN hearing) (NN officer) (CC and) (RB barely) (PDT half) (DT the) (NN rise) (VBN sought) (IN by) (DT the) (NN utility) (. .))\n",
            "(S (DT The) (NN ruling) (VBZ follows) (DT a) (NN host) (IN of) (NNS problems) (IN at) (NNP Tucson) (NNP Electric) (, ,) (VBG including) (JJ major) (NNS write-downs) (, ,) (DT a) (CD 60) (NN %) (NN slash) (IN in) (DT the) (JJ common) (NN stock) (NN dividend) (CC and) (DT the) (NN departure) (IN of) (JJ former) (NNP Chairman) (NNP Einar) (NNP Greve) (IN during) (DT a) (NN company) (NN investigation) (IN of) (PRP$ his) (NN stock) (NNS sales) (. .))\n",
            "(S (DT The) (NNP Arizona) (JJ regulatory) (NN ruling) (VBZ calls) (IN for) ($ $) (CD 42) (CD million) (IN in) (JJ added) (NN revenue) (RB yearly) (, ,) (VBN compared) (IN with) (DT a) ($ $) (CD 57) (CD million) (NN boost) (VBN proposed) (IN by) (DT the) (NN commission) (NN hearing) (NN officer) (. .))\n",
            "(S (DT The) (NN company) (VBD had) (VBN sought) (NNS increases) (VBG totaling) ($ $) (CD 80.3) (CD million) (, ,) (CC or) (CD 22) (NN %) (. .))\n",
            "(S (DT The) (NN decision) (VBD was) (VBN announced) (IN after) (NN trading) (VBD ended) (. .))\n",
            "(S (NNP Tucson) (NNP Electric) (VBD closed) (IN at) ($ $) (CD 20.875) (DT a) (NN share) (, ,) (RB down) (CD 25) (NNS cents) (, ,) (IN in) (NNP New) (NNP York) (NNP Stock) (NNP Exchange) (JJ composite) (NN trading) (. .))\n",
            "(S (DT A) (NNP Tucson) (NNP Electric) (NN spokesman) (VBD said) (DT the) (NN utility) (VBD was) (VBN disappointed) (IN by) (DT the) (NN commission) (POS 's) (NN decision) (CC and) (`` ``) (JJ concerned) (IN about) (DT the) (JJ financial) (NN integrity) (IN of) (DT the) (NN company) (. .))\n",
            "(S (JJ South) (JJ Korean) (NNP President) (NNP Roh) (NNP Tae) (NNP Woo) (, ,) (VBG brushing) (RP aside) (NNS suggestions) (IN that) (DT the) (NN won) (VB be) (VBN revalued) (RB again) (, ,) (VBD said) (DT the) (NN currency) (POS 's) (JJ current) (NN level) (IN against) (DT the) (NN dollar) (VBZ is) (`` ``) (JJ appropriate) (. .))\n",
            "(S ('' '') (PRP$ His) (NNS comments) (, ,) (VBN made) (IN in) (NN response) (TO to) (NNS reporters) (POS ') (NNS questions) (IN at) (DT the) (NNP National) (NNP Press) (NNP Club) (RB here) (, ,) (VBD signaled) (IN that) (NNP Seoul) (VBZ is) (VBG resisting) (NNP U.S.) (NN pressure) (IN for) (DT a) (JJR further) (NN rise) (IN in) (DT the) (NN currency) (POS 's) (NN value) (. .))\n",
            "(S (DT The) (NNP U.S.) (VBZ wants) (DT a) (JJR higher) (NN won) (TO to) (VB make) (NNP South) (NNP Korea) (POS 's) (NNS exports) (RBR more) (JJ expensive) (CC and) (VB help) (VB trim) (NNP Seoul) (POS 's) (NN trade) (NN surplus) (. .))\n"
          ]
        }
      ]
    },
    {
      "cell_type": "code",
      "source": [
        "# prompt: download res_evalb.txt with python\n",
        "\n",
        "from google.colab import files\n",
        "\n",
        "files.download('/content/res_evalb.txt')\n"
      ],
      "metadata": {
        "colab": {
          "base_uri": "https://localhost:8080/",
          "height": 17
        },
        "id": "4hrjEzspGkOY",
        "outputId": "8c013b04-05ee-4d92-ac33-552b04b10f10"
      },
      "execution_count": null,
      "outputs": [
        {
          "output_type": "display_data",
          "data": {
            "text/plain": [
              "<IPython.core.display.Javascript object>"
            ],
            "application/javascript": [
              "\n",
              "    async function download(id, filename, size) {\n",
              "      if (!google.colab.kernel.accessAllowed) {\n",
              "        return;\n",
              "      }\n",
              "      const div = document.createElement('div');\n",
              "      const label = document.createElement('label');\n",
              "      label.textContent = `Downloading \"${filename}\": `;\n",
              "      div.appendChild(label);\n",
              "      const progress = document.createElement('progress');\n",
              "      progress.max = size;\n",
              "      div.appendChild(progress);\n",
              "      document.body.appendChild(div);\n",
              "\n",
              "      const buffers = [];\n",
              "      let downloaded = 0;\n",
              "\n",
              "      const channel = await google.colab.kernel.comms.open(id);\n",
              "      // Send a message to notify the kernel that we're ready.\n",
              "      channel.send({})\n",
              "\n",
              "      for await (const message of channel.messages) {\n",
              "        // Send a message to notify the kernel that we're ready.\n",
              "        channel.send({})\n",
              "        if (message.buffers) {\n",
              "          for (const buffer of message.buffers) {\n",
              "            buffers.push(buffer);\n",
              "            downloaded += buffer.byteLength;\n",
              "            progress.value = downloaded;\n",
              "          }\n",
              "        }\n",
              "      }\n",
              "      const blob = new Blob(buffers, {type: 'application/binary'});\n",
              "      const a = document.createElement('a');\n",
              "      a.href = window.URL.createObjectURL(blob);\n",
              "      a.download = filename;\n",
              "      div.appendChild(a);\n",
              "      a.click();\n",
              "      div.remove();\n",
              "    }\n",
              "  "
            ]
          },
          "metadata": {}
        },
        {
          "output_type": "display_data",
          "data": {
            "text/plain": [
              "<IPython.core.display.Javascript object>"
            ],
            "application/javascript": [
              "download(\"download_907f9d17-148a-4c22-97d3-8af080904ad2\", \"res_evalb.txt\", 416683)"
            ]
          },
          "metadata": {}
        }
      ]
    }
  ]
}